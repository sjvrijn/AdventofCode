{
 "cells": [
  {
   "cell_type": "code",
   "execution_count": 4,
   "metadata": {},
   "outputs": [],
   "source": [
    "import numpy as np"
   ]
  },
  {
   "cell_type": "markdown",
   "metadata": {},
   "source": [
    "# 1a"
   ]
  },
  {
   "cell_type": "code",
   "execution_count": 6,
   "metadata": {},
   "outputs": [
    {
     "name": "stdout",
     "output_type": "stream",
     "text": [
      "587\n"
     ]
    }
   ],
   "source": [
    "with open('input1.txt') as file:\n",
    "    print(sum([int(line) for line in file]))"
   ]
  },
  {
   "cell_type": "markdown",
   "metadata": {},
   "source": [
    "# 1b"
   ]
  },
  {
   "cell_type": "code",
   "execution_count": 7,
   "metadata": {},
   "outputs": [],
   "source": [
    "with open('input1.txt') as file:\n",
    "    B = [int(line) for line in file]"
   ]
  },
  {
   "cell_type": "code",
   "execution_count": 11,
   "metadata": {},
   "outputs": [
    {
     "name": "stdout",
     "output_type": "stream",
     "text": [
      "83130\n"
     ]
    }
   ],
   "source": [
    "freq = 0\n",
    "index = 0\n",
    "freq_seen = set()\n",
    "\n",
    "while True:\n",
    "    freq = freq + B[index]\n",
    "    if freq in freq_seen:\n",
    "        print(freq)\n",
    "        break\n",
    "    freq_seen.add(freq)\n",
    "    index += 1\n",
    "    if index == len(B):\n",
    "        index = 0\n",
    "    \"\"\"End loop\"\"\""
   ]
  },
  {
   "cell_type": "code",
   "execution_count": 13,
   "metadata": {},
   "outputs": [
    {
     "name": "stdout",
     "output_type": "stream",
     "text": [
      "83130\n"
     ]
    }
   ],
   "source": [
    "freq = 0\n",
    "freq_seen = {freq}\n",
    "\n",
    "from itertools import cycle\n",
    "\n",
    "for change in cycle(B):\n",
    "    freq += change\n",
    "    if freq in freq_seen:\n",
    "        print(freq)\n",
    "        break\n",
    "    else:\n",
    "        freq_seen.add(freq)"
   ]
  },
  {
   "cell_type": "markdown",
   "metadata": {},
   "source": [
    "# 2a"
   ]
  },
  {
   "cell_type": "code",
   "execution_count": 14,
   "metadata": {},
   "outputs": [
    {
     "data": {
      "text/plain": [
       "2"
      ]
     },
     "execution_count": 14,
     "metadata": {},
     "output_type": "execute_result"
    }
   ],
   "source": [
    "line = 'bababc'\n",
    "line.count('a')"
   ]
  },
  {
   "cell_type": "code",
   "execution_count": 18,
   "metadata": {},
   "outputs": [
    {
     "name": "stdout",
     "output_type": "stream",
     "text": [
      "249 * 30 = 7470\n"
     ]
    }
   ],
   "source": [
    "amount_three = 0\n",
    "amount_two = 0\n",
    "with open('input2.txt') as file:\n",
    "    for line in file:\n",
    "        has_three = False\n",
    "        has_two = False\n",
    "        for letter in line:\n",
    "            if line.count(letter) == 3:\n",
    "                has_three = True\n",
    "            elif line.count(letter) == 2:\n",
    "                has_two = True\n",
    "        amount_three += has_three\n",
    "        amount_two += has_two\n",
    "print(f'{amount_two} * {amount_three} = {amount_two*amount_three}')"
   ]
  },
  {
   "cell_type": "code",
   "execution_count": 16,
   "metadata": {},
   "outputs": [
    {
     "name": "stdout",
     "output_type": "stream",
     "text": [
      "1 0\n"
     ]
    }
   ],
   "source": [
    "print(int(True), int(False))"
   ]
  },
  {
   "cell_type": "markdown",
   "metadata": {},
   "source": [
    "# 2b"
   ]
  },
  {
   "cell_type": "code",
   "execution_count": 25,
   "metadata": {},
   "outputs": [],
   "source": [
    "word_a = np.array([letter for letter in 'fghij'])\n",
    "word_b = np.array([letter for letter in 'fguij'])"
   ]
  },
  {
   "cell_type": "code",
   "execution_count": 26,
   "metadata": {},
   "outputs": [
    {
     "data": {
      "text/plain": [
       "array([ True,  True, False,  True,  True])"
      ]
     },
     "execution_count": 26,
     "metadata": {},
     "output_type": "execute_result"
    }
   ],
   "source": [
    "word_a == word_b"
   ]
  },
  {
   "cell_type": "code",
   "execution_count": 28,
   "metadata": {},
   "outputs": [
    {
     "data": {
      "text/plain": [
       "4"
      ]
     },
     "execution_count": 28,
     "metadata": {},
     "output_type": "execute_result"
    }
   ],
   "source": [
    "len(word_a[word_a == word_b])"
   ]
  },
  {
   "cell_type": "code",
   "execution_count": 30,
   "metadata": {},
   "outputs": [
    {
     "name": "stdout",
     "output_type": "stream",
     "text": [
      "kqzxdenujwcstybmgvyiofrrd\n",
      "\n"
     ]
    }
   ],
   "source": [
    "from itertools import combinations\n",
    "with open('input2.txt') as file:\n",
    "    words = [line for line in file]\n",
    "\n",
    "for word_a, word_b in combinations(words, 2):\n",
    "    word_a = np.array([letter for letter in word_a])\n",
    "    word_b = np.array([letter for letter in word_b])\n",
    "    result = word_a == word_b\n",
    "    if sum(result) == (len(word_a) - 1):\n",
    "        print(''.join(word_a[result]))\n",
    "        break\n",
    "        "
   ]
  },
  {
   "cell_type": "markdown",
   "metadata": {},
   "source": [
    "# 3a"
   ]
  },
  {
   "cell_type": "code",
   "execution_count": 38,
   "metadata": {},
   "outputs": [
    {
     "name": "stdout",
     "output_type": "stream",
     "text": [
      "115348\n"
     ]
    }
   ],
   "source": [
    "#1 @ 1,3: 4x4\n",
    "#1 @ 604,100: 17x27\n",
    "\n",
    "fabric = np.zeros((1000,1000))\n",
    "with open('input3.txt') as file:\n",
    "    for claim in file:\n",
    "        index, at, coords, size = claim.split()\n",
    "        coord_x, coord_y = map(int, coords[:-1].split(','))\n",
    "        size_x, size_y = map(int, size.split('x'))\n",
    "        \n",
    "        x_end, y_end = coord_x + size_x, coord_y + size_y\n",
    "        \n",
    "        fabric[coord_x:x_end,coord_y:y_end] += 1\n",
    "        \n",
    "    print(np.sum(fabric>1))\n",
    "        "
   ]
  },
  {
   "cell_type": "markdown",
   "metadata": {},
   "source": [
    "# 3b"
   ]
  },
  {
   "cell_type": "code",
   "execution_count": 52,
   "metadata": {},
   "outputs": [
    {
     "name": "stdout",
     "output_type": "stream",
     "text": [
      "{188}\n"
     ]
    }
   ],
   "source": [
    "fabric = np.zeros((1000,1000))\n",
    "conflicting = set()\n",
    "\n",
    "with open('input3.txt') as file:\n",
    "    for claim in file:\n",
    "        index, at, coords, size = claim.split()\n",
    "        index = int(index[1:])\n",
    "        coord_x, coord_y = map(int, coords[:-1].split(','))\n",
    "        size_x, size_y = map(int, size.split('x'))\n",
    "        \n",
    "        x_end, y_end = coord_x + size_x, coord_y + size_y\n",
    "        \n",
    "        claimed_indices = set(fabric[coord_x:x_end,coord_y:y_end].flatten())\n",
    "        if claimed_indices != {0}:\n",
    "            conflicting.add(index)\n",
    "            conflicting = conflicting.union(claimed_indices)\n",
    "            \n",
    "        fabric[coord_x:x_end,coord_y:y_end] = index\n",
    "        \n",
    "print(set(range(index)) - conflicting)"
   ]
  },
  {
   "cell_type": "code",
   "execution_count": 51,
   "metadata": {},
   "outputs": [
    {
     "data": {
      "text/plain": [
       "{0, 1, 2, 3}"
      ]
     },
     "execution_count": 51,
     "metadata": {},
     "output_type": "execute_result"
    }
   ],
   "source": [
    "set(np.arange(4).reshape((2,2)).flatten())"
   ]
  },
  {
   "cell_type": "markdown",
   "metadata": {},
   "source": [
    "# 4a"
   ]
  },
  {
   "cell_type": "code",
   "execution_count": 22,
   "metadata": {},
   "outputs": [
    {
     "name": "stdout",
     "output_type": "stream",
     "text": [
      "1518-11-01 00:25:00\n",
      "['[1518-11-01', '00:25]']\n"
     ]
    }
   ],
   "source": [
    "#[1518-11-01 00:00] Guard #10 begins shift\n",
    "#[1518-11-01 00:05] falls asleep\n",
    "#[1518-11-01 00:25] wakes up\n",
    "\n",
    "from datetime import datetime\n",
    "\n",
    "print(datetime.strptime('[1518-11-01 00:25]', '[%Y-%m-%d %H:%M]'))\n",
    "print(('[1518-11-01 00:25]').split())"
   ]
  },
  {
   "cell_type": "code",
   "execution_count": 14,
   "metadata": {},
   "outputs": [],
   "source": [
    "from datetime import datetime\n",
    "\n",
    "records = []\n",
    "\n",
    "with open('input4.txt') as file:\n",
    "    for record in file:\n",
    "        date_time = datetime.strptime(record[:18], '[%Y-%m-%d %H:%M]')\n",
    "        records.append((date_time, record))"
   ]
  },
  {
   "cell_type": "code",
   "execution_count": 16,
   "metadata": {},
   "outputs": [],
   "source": [
    "from operator import itemgetter\n",
    "from pprint import pprint\n",
    "\n",
    "records.sort(key=itemgetter(0))"
   ]
  },
  {
   "cell_type": "code",
   "execution_count": 23,
   "metadata": {},
   "outputs": [
    {
     "name": "stdout",
     "output_type": "stream",
     "text": [
      "3541\n"
     ]
    }
   ],
   "source": [
    "max_id = 0\n",
    "for dt, record in records:\n",
    "    _, info = record.split('] ')\n",
    "    if 'Guard' in info:\n",
    "        _, ID, _, _, = info.split()\n",
    "        ID = int(ID.replace('#', ''))\n",
    "        if ID > max_id:\n",
    "            max_id = ID\n",
    "print(max_id)"
   ]
  },
  {
   "cell_type": "code",
   "execution_count": 31,
   "metadata": {},
   "outputs": [
    {
     "name": "stdout",
     "output_type": "stream",
     "text": [
      "761 25 19025\n"
     ]
    }
   ],
   "source": [
    "schema = np.zeros((max_id+1, 60))\n",
    "\n",
    "current_ID = falls_asleep = None\n",
    "for dt, record in records:\n",
    "    _, info = record.split('] ')\n",
    "    if 'Guard' in info:\n",
    "        _, ID, _, _, = info.split()\n",
    "        current_ID = int(ID.replace('#', ''))\n",
    "    elif info == 'falls asleep\\n':\n",
    "        falls_asleep = dt.minute\n",
    "    elif info == 'wakes up\\n':\n",
    "        schema[current_ID, falls_asleep:dt.minute] += 1\n",
    "        falls_asleep = None\n",
    "\n",
    "\n",
    "max_id = np.argmax(np.sum(schema, axis=1))\n",
    "minute = np.argmax(schema[max_id])\n",
    "print(max_id, minute, minute * max_id)"
   ]
  },
  {
   "cell_type": "markdown",
   "metadata": {},
   "source": [
    "# 4b"
   ]
  },
  {
   "cell_type": "code",
   "execution_count": 36,
   "metadata": {},
   "outputs": [
    {
     "name": "stdout",
     "output_type": "stream",
     "text": [
      "[743] [32] [23776]\n",
      "44612\n",
      "[44612]\n"
     ]
    }
   ],
   "source": [
    "ID, minute = np.where(schema == np.max(schema))\n",
    "print(ID, minute, ID*minute)\n",
    "print(np.argmax(schema))\n",
    "print(ID*60+minute)"
   ]
  },
  {
   "cell_type": "markdown",
   "metadata": {},
   "source": [
    "# 5a"
   ]
  },
  {
   "cell_type": "code",
   "execution_count": 49,
   "metadata": {},
   "outputs": [
    {
     "name": "stdout",
     "output_type": "stream",
     "text": [
      "50000\n",
      "11814\n"
     ]
    }
   ],
   "source": [
    "import string\n",
    "\n",
    "with open('input5.txt') as file:\n",
    "    polymer = next(file).strip()\n",
    "\n",
    "print(len(polymer))\n",
    "while True:\n",
    "    length_start = len(polymer)\n",
    "    for letters in zip(string.ascii_lowercase, string.ascii_uppercase):\n",
    "        polymer = polymer.replace(''.join(letters), '')\n",
    "    for letters in zip(string.ascii_uppercase, string.ascii_lowercase):\n",
    "        polymer = polymer.replace(''.join(letters), '')\n",
    "    length_after = len(polymer)\n",
    "    if length_after == length_start:\n",
    "        break\n",
    "    \n",
    "print(len(polymer))"
   ]
  },
  {
   "cell_type": "code",
   "execution_count": 44,
   "metadata": {},
   "outputs": [
    {
     "name": "stdout",
     "output_type": "stream",
     "text": [
      "('a', 'A')\n",
      "aA\n"
     ]
    }
   ],
   "source": [
    "zip_ding = list(zip(string.ascii_lowercase, string.ascii_uppercase))\n",
    "print(zip_ding[0])\n",
    "print(''.join(zip_ding[0]))"
   ]
  },
  {
   "cell_type": "markdown",
   "metadata": {},
   "source": [
    "# 5b"
   ]
  },
  {
   "cell_type": "code",
   "execution_count": 52,
   "metadata": {},
   "outputs": [
    {
     "name": "stdout",
     "output_type": "stream",
     "text": [
      "4282\n"
     ]
    }
   ],
   "source": [
    "with open('input5.txt') as file:\n",
    "    polymer = next(file).strip()\n",
    "    \n",
    "shortest_polymer = len(polymer)\n",
    "for lower, upper in zip(string.ascii_lowercase, string.ascii_uppercase):\n",
    "    new_polymer = polymer.replace(lower, '').replace(upper, '')\n",
    "    \n",
    "    while True:\n",
    "        length_start = len(new_polymer)\n",
    "        for letters in zip(string.ascii_lowercase, string.ascii_uppercase):\n",
    "            new_polymer = new_polymer.replace(''.join(letters), '')\n",
    "        for letters in zip(string.ascii_uppercase, string.ascii_lowercase):\n",
    "            new_polymer = new_polymer.replace(''.join(letters), '')\n",
    "        length_after = len(new_polymer)\n",
    "        if length_after == length_start:\n",
    "            break\n",
    "    if len(new_polymer) < shortest_polymer:\n",
    "        shortest_polymer = len(new_polymer)\n",
    "\n",
    "print(shortest_polymer)"
   ]
  },
  {
   "cell_type": "markdown",
   "metadata": {},
   "source": [
    "# 6a"
   ]
  },
  {
   "cell_type": "code",
   "execution_count": 42,
   "metadata": {},
   "outputs": [
    {
     "name": "stdout",
     "output_type": "stream",
     "text": [
      "[357 358] (50, 2)\n",
      "[[nan nan nan nan nan nan nan nan nan nan]\n",
      " [nan nan nan nan nan nan nan nan nan nan]\n",
      " [nan nan nan nan nan nan nan nan nan nan]\n",
      " [nan nan nan nan nan nan nan nan nan nan]\n",
      " [nan nan nan nan nan nan nan nan nan nan]\n",
      " [nan nan nan nan nan nan nan nan nan nan]\n",
      " [nan nan nan nan nan nan nan nan nan nan]\n",
      " [nan nan nan nan nan nan nan nan nan nan]\n",
      " [nan nan nan nan nan nan nan nan nan nan]\n",
      " [nan nan nan nan nan nan nan nan nan nan]]\n"
     ]
    }
   ],
   "source": [
    "from itertools import product\n",
    "\n",
    "with open('input6.txt') as file:\n",
    "    coords = np.array([list(map(int, line.strip().split(', '))) for line in file])\n",
    "print(np.max(coords, axis=0), coords.shape)\n",
    "\n",
    "max_coords = np.max(coords, axis=0)\n",
    "\n",
    "grid = np.zeros(max_coords+1) * np.nan\n",
    "print(grid[:10, :10])\n",
    "\n",
    "def manhattan(a, b):\n",
    "    return abs(a[0] - b[0]) + abs(a[1] - b[1])\n",
    "\n",
    "for loc in product(range(grid.shape[0]), range(grid.shape[1])):\n",
    "    distances = np.array([manhattan(loc, coord) for coord in coords])\n",
    "    closest = np.where(distances == np.min(distances))\n",
    "    if len(closest[0]) == 1:\n",
    "        grid[loc] = closest[0]\n"
   ]
  },
  {
   "cell_type": "code",
   "execution_count": 43,
   "metadata": {},
   "outputs": [
    {
     "name": "stdout",
     "output_type": "stream",
     "text": [
      "{nan, 1.0, nan, nan, nan, nan, nan, 6.0, nan, 9.0, nan, 11.0, nan, 13.0, 14.0, 15.0, 18.0, 19.0, 23.0, 5.0, 28.0, 29.0, 30.0, 31.0, nan, 33.0, nan, nan, 36.0, 32.0, 38.0, 41.0, 42.0, 46.0, 47.0, 48.0}\n"
     ]
    }
   ],
   "source": [
    "top = grid[:,0]\n",
    "bottom = grid[:,-1]\n",
    "left = grid[0,:]\n",
    "right = grid[-1,:]\n",
    "\n",
    "at_sides = set(top)\n",
    "at_sides.update(bottom)\n",
    "at_sides.update(left)\n",
    "at_sides.update(right)\n",
    "print(at_sides)"
   ]
  },
  {
   "cell_type": "code",
   "execution_count": 44,
   "metadata": {},
   "outputs": [
    {
     "name": "stdout",
     "output_type": "stream",
     "text": [
      "{0, 2, 3, 4, 7, 8, 10, 12, 16, 17, 20, 21, 22, 24, 25, 26, 27, 34, 35, 37, 39, 40, 43, 44, 45, 49}\n",
      "4771\n"
     ]
    }
   ],
   "source": [
    "remaining_indices = set(range(50)) - at_sides\n",
    "print(remaining_indices)\n",
    "\n",
    "max_size = 0\n",
    "for index in remaining_indices:\n",
    "    size = np.sum(grid == index)\n",
    "    max_size = max(max_size, size)\n",
    "    \n",
    "print(max_size)"
   ]
  },
  {
   "cell_type": "code",
   "execution_count": 41,
   "metadata": {},
   "outputs": [
    {
     "name": "stdout",
     "output_type": "stream",
     "text": [
      "1\n",
      "1\n",
      "(array([0], dtype=int64),)\n"
     ]
    }
   ],
   "source": [
    "bla = np.where(np.array([0,1,4,4])==0)\n",
    "print(len(bla[0]))\n",
    "print(len(np.where(np.array([0,0,4,4])==0)))\n",
    "print(np.where(np.array([0,1,4,4])==0))"
   ]
  },
  {
   "cell_type": "code",
   "execution_count": 45,
   "metadata": {},
   "outputs": [
    {
     "name": "stdout",
     "output_type": "stream",
     "text": [
      "39149\n"
     ]
    }
   ],
   "source": [
    "# 6b\n",
    "grid = np.zeros(max_coords+1)\n",
    "\n",
    "total_safe = 0\n",
    "for loc in product(range(grid.shape[0]), range(grid.shape[1])):\n",
    "    distances = np.array([manhattan(loc, coord) for coord in coords])\n",
    "    if np.sum(distances) < 10_000:\n",
    "        total_safe += 1\n",
    "print(total_safe)"
   ]
  },
  {
   "cell_type": "code",
   "execution_count": null,
   "metadata": {},
   "outputs": [],
   "source": []
  }
 ],
 "metadata": {
  "kernelspec": {
   "display_name": "Python 3",
   "language": "python",
   "name": "python3"
  },
  "language_info": {
   "codemirror_mode": {
    "name": "ipython",
    "version": 3
   },
   "file_extension": ".py",
   "mimetype": "text/x-python",
   "name": "python",
   "nbconvert_exporter": "python",
   "pygments_lexer": "ipython3",
   "version": "3.6.3"
  }
 },
 "nbformat": 4,
 "nbformat_minor": 2
}

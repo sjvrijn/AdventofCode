{
 "cells": [
  {
   "cell_type": "code",
   "execution_count": 2,
   "metadata": {
    "colab": {
     "base_uri": "https://localhost:8080/",
     "height": 121
    },
    "colab_type": "code",
    "executionInfo": {
     "elapsed": 42822,
     "status": "ok",
     "timestamp": 1553945137232,
     "user": {
      "displayName": "Daniëlle van Klink",
      "photoUrl": "",
      "userId": "15709781598964396942"
     },
     "user_tz": -60
    },
    "id": "8Se3erbuUhWs",
    "outputId": "b35ab878-597e-4dbf-943b-893b8e77df61",
    "pycharm": {
     "name": "#%%\n"
    }
   },
   "outputs": [
    {
     "name": "stdout",
     "output_type": "stream",
     "text": [
      "Go to this URL in a browser: https://accounts.google.com/o/oauth2/auth?client_id=947318989803-6bn6qk8qdgf4n4g3pfee6491hc0brc4i.apps.googleusercontent.com&redirect_uri=urn%3Aietf%3Awg%3Aoauth%3A2.0%3Aoob&scope=email%20https%3A%2F%2Fwww.googleapis.com%2Fauth%2Fdocs.test%20https%3A%2F%2Fwww.googleapis.com%2Fauth%2Fdrive%20https%3A%2F%2Fwww.googleapis.com%2Fauth%2Fdrive.photos.readonly%20https%3A%2F%2Fwww.googleapis.com%2Fauth%2Fpeopleapi.readonly&response_type=code\n",
      "\n",
      "Enter your authorization code:\n",
      "··········\n",
      "Mounted at /content/gdrive\n"
     ]
    }
   ],
   "source": [
    "from google.colab import drive\n",
    "drive.mount('/content/gdrive')"
   ]
  },
  {
   "cell_type": "code",
   "execution_count": 3,
   "metadata": {
    "colab": {
     "base_uri": "https://localhost:8080/",
     "height": 118
    },
    "colab_type": "code",
    "executionInfo": {
     "elapsed": 2764,
     "status": "ok",
     "timestamp": 1553945146749,
     "user": {
      "displayName": "Daniëlle van Klink",
      "photoUrl": "",
      "userId": "15709781598964396942"
     },
     "user_tz": -60
    },
    "id": "gUr-BDWlU_Qf",
    "outputId": "148da97c-d666-431b-8bd4-faa5dca1bedd",
    "pycharm": {
     "name": "#%%\n"
    }
   },
   "outputs": [
    {
     "name": "stdout",
     "output_type": "stream",
     "text": [
      "/content/gdrive/My Drive/Colab Notebooks/AdventofCode/samen\n",
      "AdventofCode.ipynb  input16.txt  input20.txt  input25.txt  input6.txt\n",
      "input10.txt\t    input17.txt  input21.txt  input2.txt   input7.txt\n",
      "input12.txt\t    input18.txt  input22.txt  input3.txt   input8.txt\n",
      "input13.txt\t    input19.txt  input23.txt  input4.txt   input9.txt\n",
      "input15.txt\t    input1.txt\t input24.txt  input5.txt\n"
     ]
    }
   ],
   "source": [
    "%cd /content/gdrive/My\\ Drive/Colab\\ Notebooks/AdventofCode/samen\n",
    "!ls"
   ]
  },
  {
   "cell_type": "code",
   "execution_count": 1,
   "metadata": {
    "colab": {},
    "colab_type": "code",
    "id": "gRY_sGPdWZG4",
    "pycharm": {
     "name": "#%%\n"
    }
   },
   "outputs": [],
   "source": [
    "# Actual imports\n",
    "import numpy as np\n",
    "import string\n",
    "from itertools import cycle, combinations, product\n",
    "from datetime import datetime\n",
    "from operator import itemgetter\n",
    "from pprint import pprint\n",
    "\n",
    "\n"
   ]
  },
  {
   "cell_type": "markdown",
   "metadata": {
    "colab_type": "text",
    "id": "KF8nQGK4UhW2",
    "pycharm": {
     "name": "#%% md\n"
    }
   },
   "source": [
    "# 1a"
   ]
  },
  {
   "cell_type": "code",
   "execution_count": null,
   "metadata": {
    "colab": {
     "base_uri": "https://localhost:8080/",
     "height": 34
    },
    "colab_type": "code",
    "executionInfo": {
     "elapsed": 682,
     "status": "ok",
     "timestamp": 1548500063299,
     "user": {
      "displayName": "Daniëlle van Klink",
      "photoUrl": "",
      "userId": "15709781598964396942"
     },
     "user_tz": -60
    },
    "id": "jFNmVRb5UhW4",
    "outputId": "d7cdb14b-381c-4856-9bbf-5a1bf481d031",
    "pycharm": {
     "name": "#%%\n"
    }
   },
   "outputs": [
    {
     "name": "stdout",
     "output_type": "stream",
     "text": [
      "587\n"
     ]
    }
   ],
   "source": [
    "with open('input1.txt') as file:\n",
    "    print(sum([int(line) for line in file]))"
   ]
  },
  {
   "cell_type": "markdown",
   "metadata": {
    "colab_type": "text",
    "id": "NjYDfoHNUhXB",
    "pycharm": {
     "name": "#%% md\n"
    }
   },
   "source": [
    "# 1b"
   ]
  },
  {
   "cell_type": "code",
   "execution_count": null,
   "metadata": {
    "colab": {},
    "colab_type": "code",
    "id": "r5TuEdlsUhXD",
    "pycharm": {
     "name": "#%%\n"
    }
   },
   "outputs": [],
   "source": [
    "with open('input1.txt') as file:\n",
    "    B = [int(line) for line in file]"
   ]
  },
  {
   "cell_type": "code",
   "execution_count": null,
   "metadata": {
    "colab": {},
    "colab_type": "code",
    "id": "6m7io1hSUhXI",
    "outputId": "3ae127da-bd53-409e-e80e-31d473aff68b",
    "pycharm": {
     "name": "#%%\n"
    }
   },
   "outputs": [
    {
     "name": "stdout",
     "output_type": "stream",
     "text": [
      "83130\n"
     ]
    }
   ],
   "source": [
    "freq = 0\n",
    "index = 0\n",
    "freq_seen = set()\n",
    "\n",
    "while True:\n",
    "    freq = freq + B[index]\n",
    "    if freq in freq_seen:\n",
    "        print(freq)\n",
    "        break\n",
    "    freq_seen.add(freq)\n",
    "    index += 1\n",
    "    if index == len(B):\n",
    "        index = 0\n",
    "    \"\"\"End loop\"\"\""
   ]
  },
  {
   "cell_type": "code",
   "execution_count": null,
   "metadata": {
    "colab": {},
    "colab_type": "code",
    "id": "HBfGWaJpUhXP",
    "outputId": "d184c844-f964-47b9-fe0f-02a8a2aeacd3",
    "pycharm": {
     "name": "#%%\n"
    }
   },
   "outputs": [
    {
     "name": "stdout",
     "output_type": "stream",
     "text": [
      "83130\n"
     ]
    }
   ],
   "source": [
    "freq = 0\n",
    "freq_seen = {freq}\n",
    "\n",
    "from itertools import cycle\n",
    "\n",
    "for change in cycle(B):\n",
    "    freq += change\n",
    "    if freq in freq_seen:\n",
    "        print(freq)\n",
    "        break\n",
    "    else:\n",
    "        freq_seen.add(freq)"
   ]
  },
  {
   "cell_type": "markdown",
   "metadata": {
    "colab_type": "text",
    "id": "O9_UezJ5UhXV",
    "pycharm": {
     "name": "#%% md\n"
    }
   },
   "source": [
    "# 2a"
   ]
  },
  {
   "cell_type": "code",
   "execution_count": null,
   "metadata": {
    "colab": {},
    "colab_type": "code",
    "id": "DPNbvK2pUhXX",
    "outputId": "e70c6b3b-ce6d-42c4-f7ca-a67faa9631b2",
    "pycharm": {
     "name": "#%%\n"
    }
   },
   "outputs": [
    {
     "data": {
      "text/plain": [
       "2"
      ]
     },
     "execution_count": 14,
     "metadata": {
      "tags": []
     },
     "output_type": "execute_result"
    }
   ],
   "source": [
    "line = 'bababc'\n",
    "line.count('a')"
   ]
  },
  {
   "cell_type": "code",
   "execution_count": null,
   "metadata": {
    "colab": {},
    "colab_type": "code",
    "id": "RY7WzU2AUhXe",
    "outputId": "aa2b9035-f7a0-43e2-cde1-5cb895b66307",
    "pycharm": {
     "name": "#%%\n"
    }
   },
   "outputs": [
    {
     "name": "stdout",
     "output_type": "stream",
     "text": [
      "249 * 30 = 7470\n"
     ]
    }
   ],
   "source": [
    "amount_three = 0\n",
    "amount_two = 0\n",
    "with open('input2.txt') as file:\n",
    "    for line in file:\n",
    "        has_three = False\n",
    "        has_two = False\n",
    "        for letter in line:\n",
    "            if line.count(letter) == 3:\n",
    "                has_three = True\n",
    "            elif line.count(letter) == 2:\n",
    "                has_two = True\n",
    "        amount_three += has_three\n",
    "        amount_two += has_two\n",
    "print(f'{amount_two} * {amount_three} = {amount_two*amount_three}')"
   ]
  },
  {
   "cell_type": "code",
   "execution_count": null,
   "metadata": {
    "colab": {},
    "colab_type": "code",
    "id": "xZCfVf0xUhXq",
    "outputId": "0724a3ba-ab6f-410b-fbaf-60bbe91962df",
    "pycharm": {
     "name": "#%%\n"
    }
   },
   "outputs": [
    {
     "name": "stdout",
     "output_type": "stream",
     "text": [
      "1 0\n"
     ]
    }
   ],
   "source": [
    "print(int(True), int(False))"
   ]
  },
  {
   "cell_type": "markdown",
   "metadata": {
    "colab_type": "text",
    "id": "FOInKzpyUhXx",
    "pycharm": {
     "name": "#%% md\n"
    }
   },
   "source": [
    "# 2b"
   ]
  },
  {
   "cell_type": "code",
   "execution_count": null,
   "metadata": {
    "colab": {},
    "colab_type": "code",
    "id": "QVEG1KapUhXy",
    "pycharm": {
     "name": "#%%\n"
    }
   },
   "outputs": [],
   "source": [
    "word_a = np.array([letter for letter in 'fghij'])\n",
    "word_b = np.array([letter for letter in 'fguij'])"
   ]
  },
  {
   "cell_type": "code",
   "execution_count": null,
   "metadata": {
    "colab": {},
    "colab_type": "code",
    "id": "Wi7l0BoLUhX2",
    "outputId": "d32a06df-3229-4d50-990f-ebc8c50a1b55",
    "pycharm": {
     "name": "#%%\n"
    }
   },
   "outputs": [
    {
     "data": {
      "text/plain": [
       "array([ True,  True, False,  True,  True])"
      ]
     },
     "execution_count": 26,
     "metadata": {
      "tags": []
     },
     "output_type": "execute_result"
    }
   ],
   "source": [
    "word_a == word_b"
   ]
  },
  {
   "cell_type": "code",
   "execution_count": null,
   "metadata": {
    "colab": {},
    "colab_type": "code",
    "id": "FGkfNrnQUhX9",
    "outputId": "af4207c0-9784-4ecd-cfd8-d41c5e162e01",
    "pycharm": {
     "name": "#%%\n"
    }
   },
   "outputs": [
    {
     "data": {
      "text/plain": [
       "4"
      ]
     },
     "execution_count": 28,
     "metadata": {
      "tags": []
     },
     "output_type": "execute_result"
    }
   ],
   "source": [
    "len(word_a[word_a == word_b])"
   ]
  },
  {
   "cell_type": "code",
   "execution_count": null,
   "metadata": {
    "colab": {},
    "colab_type": "code",
    "id": "TaeMpPjvUhYD",
    "outputId": "fc3e7ae0-a28a-4a53-85d0-038a339926eb",
    "pycharm": {
     "name": "#%%\n"
    }
   },
   "outputs": [
    {
     "name": "stdout",
     "output_type": "stream",
     "text": [
      "kqzxdenujwcstybmgvyiofrrd\n",
      "\n"
     ]
    }
   ],
   "source": [
    "from itertools import combinations\n",
    "with open('input2.txt') as file:\n",
    "    words = [line for line in file]\n",
    "\n",
    "for word_a, word_b in combinations(words, 2):\n",
    "    word_a = np.array([letter for letter in word_a])\n",
    "    word_b = np.array([letter for letter in word_b])\n",
    "    result = word_a == word_b\n",
    "    if sum(result) == (len(word_a) - 1):\n",
    "        print(''.join(word_a[result]))\n",
    "        break\n",
    "        "
   ]
  },
  {
   "cell_type": "markdown",
   "metadata": {
    "colab_type": "text",
    "id": "sem_OOEFUhYJ",
    "pycharm": {
     "name": "#%% md\n"
    }
   },
   "source": [
    "# 3a"
   ]
  },
  {
   "cell_type": "code",
   "execution_count": null,
   "metadata": {
    "colab": {},
    "colab_type": "code",
    "id": "m7AWdV8iUhYK",
    "outputId": "736d0801-e442-4281-8da5-292e93459cc0",
    "pycharm": {
     "name": "#%%\n"
    }
   },
   "outputs": [
    {
     "name": "stdout",
     "output_type": "stream",
     "text": [
      "115348\n"
     ]
    }
   ],
   "source": [
    "#1 @ 1,3: 4x4\n",
    "#1 @ 604,100: 17x27\n",
    "\n",
    "fabric = np.zeros((1000,1000))\n",
    "with open('input3.txt') as file:\n",
    "    for claim in file:\n",
    "        index, at, coords, size = claim.split()\n",
    "        coord_x, coord_y = map(int, coords[:-1].split(','))\n",
    "        size_x, size_y = map(int, size.split('x'))\n",
    "        \n",
    "        x_end, y_end = coord_x + size_x, coord_y + size_y\n",
    "        \n",
    "        fabric[coord_x:x_end,coord_y:y_end] += 1\n",
    "        \n",
    "    print(np.sum(fabric>1))\n",
    "        "
   ]
  },
  {
   "cell_type": "markdown",
   "metadata": {
    "colab_type": "text",
    "id": "BUbtZtanUhYP",
    "pycharm": {
     "name": "#%% md\n"
    }
   },
   "source": [
    "# 3b"
   ]
  },
  {
   "cell_type": "code",
   "execution_count": null,
   "metadata": {
    "colab": {},
    "colab_type": "code",
    "id": "IMYjIjg0UhYV",
    "outputId": "db6c8488-32a1-43e8-9a27-19dbbe5e84d4",
    "pycharm": {
     "name": "#%%\n"
    }
   },
   "outputs": [
    {
     "name": "stdout",
     "output_type": "stream",
     "text": [
      "{188}\n"
     ]
    }
   ],
   "source": [
    "fabric = np.zeros((1000,1000))\n",
    "conflicting = set()\n",
    "\n",
    "with open('input3.txt') as file:\n",
    "    for claim in file:\n",
    "        index, at, coords, size = claim.split()\n",
    "        index = int(index[1:])\n",
    "        coord_x, coord_y = map(int, coords[:-1].split(','))\n",
    "        size_x, size_y = map(int, size.split('x'))\n",
    "        \n",
    "        x_end, y_end = coord_x + size_x, coord_y + size_y\n",
    "        \n",
    "        claimed_indices = set(fabric[coord_x:x_end,coord_y:y_end].flatten())\n",
    "        if claimed_indices != {0}:\n",
    "            conflicting.add(index)\n",
    "            conflicting = conflicting.union(claimed_indices)\n",
    "            \n",
    "        fabric[coord_x:x_end,coord_y:y_end] = index\n",
    "        \n",
    "print(set(range(index)) - conflicting)"
   ]
  },
  {
   "cell_type": "code",
   "execution_count": null,
   "metadata": {
    "colab": {},
    "colab_type": "code",
    "id": "oAJYjldpUhYd",
    "outputId": "e9c8580c-ff0c-40e4-e685-f0006779122e",
    "pycharm": {
     "name": "#%%\n"
    }
   },
   "outputs": [
    {
     "data": {
      "text/plain": [
       "{0, 1, 2, 3}"
      ]
     },
     "execution_count": 51,
     "metadata": {
      "tags": []
     },
     "output_type": "execute_result"
    }
   ],
   "source": [
    "set(np.arange(4).reshape((2,2)).flatten())"
   ]
  },
  {
   "cell_type": "markdown",
   "metadata": {
    "colab_type": "text",
    "id": "nAcS3IMIUhYl",
    "pycharm": {
     "name": "#%% md\n"
    }
   },
   "source": [
    "# 4a"
   ]
  },
  {
   "cell_type": "code",
   "execution_count": null,
   "metadata": {
    "colab": {},
    "colab_type": "code",
    "id": "8uuKzBUFUhYl",
    "outputId": "7f6d3bd9-861a-48c0-84c6-cadb6e03b64b",
    "pycharm": {
     "name": "#%%\n"
    }
   },
   "outputs": [
    {
     "name": "stdout",
     "output_type": "stream",
     "text": [
      "1518-11-01 00:25:00\n",
      "['[1518-11-01', '00:25]']\n"
     ]
    }
   ],
   "source": [
    "#[1518-11-01 00:00] Guard #10 begins shift\n",
    "#[1518-11-01 00:05] falls asleep\n",
    "#[1518-11-01 00:25] wakes up\n",
    "\n",
    "from datetime import datetime\n",
    "\n",
    "print(datetime.strptime('[1518-11-01 00:25]', '[%Y-%m-%d %H:%M]'))\n",
    "print(('[1518-11-01 00:25]').split())"
   ]
  },
  {
   "cell_type": "code",
   "execution_count": null,
   "metadata": {
    "colab": {},
    "colab_type": "code",
    "id": "MmZWB7coUhYr",
    "pycharm": {
     "name": "#%%\n"
    }
   },
   "outputs": [],
   "source": [
    "from datetime import datetime\n",
    "\n",
    "records = []\n",
    "\n",
    "with open('input4.txt') as file:\n",
    "    for record in file:\n",
    "        date_time = datetime.strptime(record[:18], '[%Y-%m-%d %H:%M]')\n",
    "        records.append((date_time, record))"
   ]
  },
  {
   "cell_type": "code",
   "execution_count": null,
   "metadata": {
    "colab": {},
    "colab_type": "code",
    "id": "xZkqYpN-UhYw",
    "pycharm": {
     "name": "#%%\n"
    }
   },
   "outputs": [],
   "source": [
    "from operator import itemgetter\n",
    "from pprint import pprint\n",
    "\n",
    "records.sort(key=itemgetter(0))"
   ]
  },
  {
   "cell_type": "code",
   "execution_count": null,
   "metadata": {
    "colab": {},
    "colab_type": "code",
    "id": "8fAjhyVPUhYz",
    "outputId": "e13a11b0-c8e5-47c2-b41e-1495fe0f10d2",
    "pycharm": {
     "name": "#%%\n"
    }
   },
   "outputs": [
    {
     "name": "stdout",
     "output_type": "stream",
     "text": [
      "3541\n"
     ]
    }
   ],
   "source": [
    "max_id = 0\n",
    "for dt, record in records:\n",
    "    _, info = record.split('] ')\n",
    "    if 'Guard' in info:\n",
    "        _, ID, _, _, = info.split()\n",
    "        ID = int(ID.replace('#', ''))\n",
    "        if ID > max_id:\n",
    "            max_id = ID\n",
    "print(max_id)"
   ]
  },
  {
   "cell_type": "code",
   "execution_count": null,
   "metadata": {
    "colab": {},
    "colab_type": "code",
    "id": "rQd3qlPgUhY4",
    "outputId": "e650fe66-4028-4aee-8d28-54dedae0442c",
    "pycharm": {
     "name": "#%%\n"
    }
   },
   "outputs": [
    {
     "name": "stdout",
     "output_type": "stream",
     "text": [
      "761 25 19025\n"
     ]
    }
   ],
   "source": [
    "schema = np.zeros((max_id+1, 60))\n",
    "\n",
    "current_ID = falls_asleep = None\n",
    "for dt, record in records:\n",
    "    _, info = record.split('] ')\n",
    "    if 'Guard' in info:\n",
    "        _, ID, _, _, = info.split()\n",
    "        current_ID = int(ID.replace('#', ''))\n",
    "    elif info == 'falls asleep\\n':\n",
    "        falls_asleep = dt.minute\n",
    "    elif info == 'wakes up\\n':\n",
    "        schema[current_ID, falls_asleep:dt.minute] += 1\n",
    "        falls_asleep = None\n",
    "\n",
    "\n",
    "max_id = np.argmax(np.sum(schema, axis=1))\n",
    "minute = np.argmax(schema[max_id])\n",
    "print(max_id, minute, minute * max_id)"
   ]
  },
  {
   "cell_type": "markdown",
   "metadata": {
    "colab_type": "text",
    "id": "BUf767l3UhY7",
    "pycharm": {
     "name": "#%% md\n"
    }
   },
   "source": [
    "# 4b"
   ]
  },
  {
   "cell_type": "code",
   "execution_count": null,
   "metadata": {
    "colab": {},
    "colab_type": "code",
    "id": "vZQqRMgnUhY7",
    "outputId": "ab832175-49b4-40ff-b89f-8961d35547f8",
    "pycharm": {
     "name": "#%%\n"
    }
   },
   "outputs": [
    {
     "name": "stdout",
     "output_type": "stream",
     "text": [
      "[743] [32] [23776]\n",
      "44612\n",
      "[44612]\n"
     ]
    }
   ],
   "source": [
    "ID, minute = np.where(schema == np.max(schema))\n",
    "print(ID, minute, ID*minute)\n",
    "print(np.argmax(schema))\n",
    "print(ID*60+minute)"
   ]
  },
  {
   "cell_type": "markdown",
   "metadata": {
    "colab_type": "text",
    "id": "NXJT6_gHUhZF",
    "pycharm": {
     "name": "#%% md\n"
    }
   },
   "source": [
    "# 5a"
   ]
  },
  {
   "cell_type": "code",
   "execution_count": null,
   "metadata": {
    "colab": {},
    "colab_type": "code",
    "id": "YQYBW8UDUhZG",
    "outputId": "9dcfa9a4-a01f-4960-edc9-03d37213419e",
    "pycharm": {
     "name": "#%%\n"
    }
   },
   "outputs": [
    {
     "name": "stdout",
     "output_type": "stream",
     "text": [
      "50000\n",
      "11814\n"
     ]
    }
   ],
   "source": [
    "import string\n",
    "\n",
    "with open('input5.txt') as file:\n",
    "    polymer = next(file).strip()\n",
    "\n",
    "print(len(polymer))\n",
    "while True:\n",
    "    length_start = len(polymer)\n",
    "    for letters in zip(string.ascii_lowercase, string.ascii_uppercase):\n",
    "        polymer = polymer.replace(''.join(letters), '')\n",
    "    for letters in zip(string.ascii_uppercase, string.ascii_lowercase):\n",
    "        polymer = polymer.replace(''.join(letters), '')\n",
    "    length_after = len(polymer)\n",
    "    if length_after == length_start:\n",
    "        break\n",
    "    \n",
    "print(len(polymer))"
   ]
  },
  {
   "cell_type": "code",
   "execution_count": null,
   "metadata": {
    "colab": {},
    "colab_type": "code",
    "id": "aQ8L3Z3TUhZJ",
    "outputId": "a50207f5-b5bf-43c4-9149-f6135d574ade",
    "pycharm": {
     "name": "#%%\n"
    }
   },
   "outputs": [
    {
     "name": "stdout",
     "output_type": "stream",
     "text": [
      "('a', 'A')\n",
      "aA\n"
     ]
    }
   ],
   "source": [
    "zip_ding = list(zip(string.ascii_lowercase, string.ascii_uppercase))\n",
    "print(zip_ding[0])\n",
    "print(''.join(zip_ding[0]))"
   ]
  },
  {
   "cell_type": "markdown",
   "metadata": {
    "colab_type": "text",
    "id": "9Rl6gFl-UhZN",
    "pycharm": {
     "name": "#%% md\n"
    }
   },
   "source": [
    "# 5b"
   ]
  },
  {
   "cell_type": "code",
   "execution_count": null,
   "metadata": {
    "colab": {},
    "colab_type": "code",
    "id": "wtDQzzmhUhZN",
    "outputId": "b0a4dd44-710f-41b0-f5f9-3613a998cdbb",
    "pycharm": {
     "name": "#%%\n"
    }
   },
   "outputs": [
    {
     "name": "stdout",
     "output_type": "stream",
     "text": [
      "4282\n"
     ]
    }
   ],
   "source": [
    "with open('input5.txt') as file:\n",
    "    polymer = next(file).strip()\n",
    "    \n",
    "shortest_polymer = len(polymer)\n",
    "for lower, upper in zip(string.ascii_lowercase, string.ascii_uppercase):\n",
    "    new_polymer = polymer.replace(lower, '').replace(upper, '')\n",
    "    \n",
    "    while True:\n",
    "        length_start = len(new_polymer)\n",
    "        for letters in zip(string.ascii_lowercase, string.ascii_uppercase):\n",
    "            new_polymer = new_polymer.replace(''.join(letters), '')\n",
    "        for letters in zip(string.ascii_uppercase, string.ascii_lowercase):\n",
    "            new_polymer = new_polymer.replace(''.join(letters), '')\n",
    "        length_after = len(new_polymer)\n",
    "        if length_after == length_start:\n",
    "            break\n",
    "    if len(new_polymer) < shortest_polymer:\n",
    "        shortest_polymer = len(new_polymer)\n",
    "\n",
    "print(shortest_polymer)"
   ]
  },
  {
   "cell_type": "markdown",
   "metadata": {
    "colab_type": "text",
    "id": "2xP2b0uJUhZR",
    "pycharm": {
     "name": "#%% md\n"
    }
   },
   "source": [
    "# 6a"
   ]
  },
  {
   "cell_type": "code",
   "execution_count": null,
   "metadata": {
    "colab": {},
    "colab_type": "code",
    "id": "xZRcQOVoUhZU",
    "outputId": "33e45c71-90b1-4cca-f1e7-46cea43a820a",
    "pycharm": {
     "name": "#%%\n"
    }
   },
   "outputs": [
    {
     "name": "stdout",
     "output_type": "stream",
     "text": [
      "[357 358] (50, 2)\n",
      "[[nan nan nan nan nan nan nan nan nan nan]\n",
      " [nan nan nan nan nan nan nan nan nan nan]\n",
      " [nan nan nan nan nan nan nan nan nan nan]\n",
      " [nan nan nan nan nan nan nan nan nan nan]\n",
      " [nan nan nan nan nan nan nan nan nan nan]\n",
      " [nan nan nan nan nan nan nan nan nan nan]\n",
      " [nan nan nan nan nan nan nan nan nan nan]\n",
      " [nan nan nan nan nan nan nan nan nan nan]\n",
      " [nan nan nan nan nan nan nan nan nan nan]\n",
      " [nan nan nan nan nan nan nan nan nan nan]]\n"
     ]
    }
   ],
   "source": [
    "from itertools import product\n",
    "\n",
    "with open('input6.txt') as file:\n",
    "    coords = np.array([list(map(int, line.strip().split(', '))) for line in file])\n",
    "print(np.max(coords, axis=0), coords.shape)\n",
    "\n",
    "max_coords = np.max(coords, axis=0)\n",
    "\n",
    "grid = np.zeros(max_coords+1) * np.nan\n",
    "print(grid[:10, :10])\n",
    "\n",
    "def manhattan(a, b):\n",
    "    return abs(a[0] - b[0]) + abs(a[1] - b[1])\n",
    "\n",
    "for loc in product(range(grid.shape[0]), range(grid.shape[1])):\n",
    "    distances = np.array([manhattan(loc, coord) for coord in coords])\n",
    "    closest = np.where(distances == np.min(distances))\n",
    "    if len(closest[0]) == 1:\n",
    "        grid[loc] = closest[0]\n"
   ]
  },
  {
   "cell_type": "code",
   "execution_count": null,
   "metadata": {
    "colab": {},
    "colab_type": "code",
    "id": "ahfv7Z-8UhZY",
    "outputId": "9c1a80f1-9f99-4ad9-95bf-f19cf45659b4",
    "pycharm": {
     "name": "#%%\n"
    }
   },
   "outputs": [
    {
     "name": "stdout",
     "output_type": "stream",
     "text": [
      "{nan, 1.0, nan, nan, nan, nan, nan, 6.0, nan, 9.0, nan, 11.0, nan, 13.0, 14.0, 15.0, 18.0, 19.0, 23.0, 5.0, 28.0, 29.0, 30.0, 31.0, nan, 33.0, nan, nan, 36.0, 32.0, 38.0, 41.0, 42.0, 46.0, 47.0, 48.0}\n"
     ]
    }
   ],
   "source": [
    "top = grid[:,0]\n",
    "bottom = grid[:,-1]\n",
    "left = grid[0,:]\n",
    "right = grid[-1,:]\n",
    "\n",
    "at_sides = set(top)\n",
    "at_sides.update(bottom)\n",
    "at_sides.update(left)\n",
    "at_sides.update(right)\n",
    "print(at_sides)"
   ]
  },
  {
   "cell_type": "code",
   "execution_count": null,
   "metadata": {
    "colab": {},
    "colab_type": "code",
    "id": "ewfVZxWyUhZd",
    "outputId": "bb113957-44f0-4cbf-f079-ecbdecfa201a",
    "pycharm": {
     "name": "#%%\n"
    }
   },
   "outputs": [
    {
     "name": "stdout",
     "output_type": "stream",
     "text": [
      "{0, 2, 3, 4, 7, 8, 10, 12, 16, 17, 20, 21, 22, 24, 25, 26, 27, 34, 35, 37, 39, 40, 43, 44, 45, 49}\n",
      "4771\n"
     ]
    }
   ],
   "source": [
    "remaining_indices = set(range(50)) - at_sides\n",
    "print(remaining_indices)\n",
    "\n",
    "max_size = 0\n",
    "for index in remaining_indices:\n",
    "    size = np.sum(grid == index)\n",
    "    max_size = max(max_size, size)\n",
    "    \n",
    "print(max_size)"
   ]
  },
  {
   "cell_type": "markdown",
   "metadata": {
    "colab_type": "text",
    "id": "sgSVuaQ6zgW0",
    "pycharm": {
     "name": "#%% md\n"
    }
   },
   "source": [
    "# 6b"
   ]
  },
  {
   "cell_type": "code",
   "execution_count": null,
   "metadata": {
    "colab": {},
    "colab_type": "code",
    "id": "JPTlRjpxUhZm",
    "outputId": "5e74cee6-ebce-4b1a-96c5-9fffd17a3f2f",
    "pycharm": {
     "name": "#%%\n"
    }
   },
   "outputs": [
    {
     "name": "stdout",
     "output_type": "stream",
     "text": [
      "39149\n"
     ]
    }
   ],
   "source": [
    "grid = np.zeros(max_coords+1)\n",
    "\n",
    "total_safe = 0\n",
    "for loc in product(range(grid.shape[0]), range(grid.shape[1])):\n",
    "    distances = np.array([manhattan(loc, coord) for coord in coords])\n",
    "    if np.sum(distances) < 10_000:\n",
    "        total_safe += 1\n",
    "print(total_safe)"
   ]
  },
  {
   "cell_type": "code",
   "execution_count": null,
   "metadata": {
    "colab": {},
    "colab_type": "code",
    "id": "OnGMFlc8UhZg",
    "outputId": "b695c539-7139-4437-8d52-661e034ddc9d",
    "pycharm": {
     "name": "#%%\n"
    }
   },
   "outputs": [
    {
     "name": "stdout",
     "output_type": "stream",
     "text": [
      "1\n",
      "1\n",
      "(array([0], dtype=int64),)\n"
     ]
    }
   ],
   "source": [
    "bla = np.where(np.array([0,1,4,4])==0)\n",
    "print(len(bla[0]))\n",
    "print(len(np.where(np.array([0,0,4,4])==0)))\n",
    "print(np.where(np.array([0,1,4,4])==0))"
   ]
  },
  {
   "cell_type": "markdown",
   "metadata": {
    "colab_type": "text",
    "id": "nUYMP0aEztIc",
    "pycharm": {
     "name": "#%% md\n"
    }
   },
   "source": [
    "# 7a"
   ]
  },
  {
   "cell_type": "code",
   "execution_count": 4,
   "metadata": {
    "colab": {
     "base_uri": "https://localhost:8080/",
     "height": 34
    },
    "colab_type": "code",
    "executionInfo": {
     "elapsed": 632,
     "status": "ok",
     "timestamp": 1553945162244,
     "user": {
      "displayName": "Daniëlle van Klink",
      "photoUrl": "",
      "userId": "15709781598964396942"
     },
     "user_tz": -60
    },
    "id": "l_px-UPezvNA",
    "outputId": "b2839a97-8cde-482f-c05a-552bf6f767b1",
    "pycharm": {
     "name": "#%%\n"
    }
   },
   "outputs": [
    {
     "name": "stdout",
     "output_type": "stream",
     "text": [
      "IBJTUWGFKDNVEYAHOMPCQRLSZX\n"
     ]
    }
   ],
   "source": [
    "import string\n",
    "import numpy as np\n",
    "\n",
    "tasks = {letter: [] for letter in string.ascii_uppercase}\n",
    "\n",
    "with open('input7.txt') as f:\n",
    "    for line in f:\n",
    "        _, pre, _, _, _, _, _, post, _, _ = line.split()\n",
    "        tasks[post].append(pre)\n",
    "        \n",
    "todo = set(string.ascii_uppercase)\n",
    "order = []\n",
    "\n",
    "while todo:\n",
    "    for task in string.ascii_uppercase:\n",
    "        # if len(tasks[task]) == 0 and t not in order:\n",
    "        if len(tasks.get(task, 'x')) == 0:\n",
    "            break\n",
    "    \n",
    "    order.append(task)\n",
    "    del tasks[task]\n",
    "    todo.remove(task)\n",
    "    \n",
    "    for pre_list in tasks.values():\n",
    "        try:\n",
    "            pre_list.remove(task)\n",
    "        except ValueError:\n",
    "            pass\n",
    "          \n",
    "print(''.join(order))\n",
    "    "
   ]
  },
  {
   "cell_type": "code",
   "execution_count": null,
   "metadata": {
    "colab": {},
    "colab_type": "code",
    "id": "V-AwpJEH0kec",
    "pycharm": {
     "name": "#%%\n"
    }
   },
   "outputs": [],
   "source": [
    "tasks = {letter: [] for letter in string.ascii_uppercase}\n",
    "\n",
    "with open('input7.txt') as f:\n",
    "    for line in f:\n",
    "        _, pre, _, _, _, _, _, post, _, _ = line.split()\n",
    "        tasks[post].append(pre)"
   ]
  },
  {
   "cell_type": "code",
   "execution_count": null,
   "metadata": {
    "colab": {},
    "colab_type": "code",
    "id": "80k-oswS04lK",
    "pycharm": {
     "name": "#%%\n"
    }
   },
   "outputs": [],
   "source": []
  },
  {
   "cell_type": "code",
   "execution_count": null,
   "metadata": {
    "colab": {
     "base_uri": "https://localhost:8080/",
     "height": 34
    },
    "colab_type": "code",
    "executionInfo": {
     "elapsed": 517,
     "status": "ok",
     "timestamp": 1553886193126,
     "user": {
      "displayName": "Sander van Rijn",
      "photoUrl": "https://lh5.googleusercontent.com/-4H0gCDe7sRw/AAAAAAAAAAI/AAAAAAAAA6c/JGxdZn9RB_c/s64/photo.jpg",
      "userId": "05558304576149541073"
     },
     "user_tz": -60
    },
    "id": "6YhtYzo01EyK",
    "outputId": "e7c047e0-e764-494c-86e1-19434a8f7de4",
    "pycharm": {
     "name": "#%%\n"
    }
   },
   "outputs": [
    {
     "data": {
      "text/plain": [
       "{'np': 'Numerical Python'}"
      ]
     },
     "execution_count": 6,
     "metadata": {
      "tags": []
     },
     "output_type": "execute_result"
    }
   ],
   "source": []
  },
  {
   "cell_type": "code",
   "execution_count": null,
   "metadata": {
    "colab": {
     "base_uri": "https://localhost:8080/",
     "height": 34
    },
    "colab_type": "code",
    "executionInfo": {
     "elapsed": 527,
     "status": "ok",
     "timestamp": 1553886275908,
     "user": {
      "displayName": "Sander van Rijn",
      "photoUrl": "https://lh5.googleusercontent.com/-4H0gCDe7sRw/AAAAAAAAAAI/AAAAAAAAA6c/JGxdZn9RB_c/s64/photo.jpg",
      "userId": "05558304576149541073"
     },
     "user_tz": -60
    },
    "id": "AU48XWX_1aOb",
    "outputId": "2625562c-e299-4a1b-b87c-f883240aa1ab",
    "pycharm": {
     "name": "#%%\n"
    }
   },
   "outputs": [
    {
     "data": {
      "text/plain": [
       "'Numerical Python'"
      ]
     },
     "execution_count": 7,
     "metadata": {
      "tags": []
     },
     "output_type": "execute_result"
    }
   ],
   "source": []
  },
  {
   "cell_type": "code",
   "execution_count": null,
   "metadata": {
    "colab": {},
    "colab_type": "code",
    "id": "rGqwPvWD1ubr",
    "pycharm": {
     "name": "#%%\n"
    }
   },
   "outputs": [],
   "source": []
  },
  {
   "cell_type": "code",
   "execution_count": null,
   "metadata": {
    "colab": {
     "base_uri": "https://localhost:8080/",
     "height": 34
    },
    "colab_type": "code",
    "executionInfo": {
     "elapsed": 707,
     "status": "ok",
     "timestamp": 1553886295853,
     "user": {
      "displayName": "Sander van Rijn",
      "photoUrl": "https://lh5.googleusercontent.com/-4H0gCDe7sRw/AAAAAAAAAAI/AAAAAAAAA6c/JGxdZn9RB_c/s64/photo.jpg",
      "userId": "05558304576149541073"
     },
     "user_tz": -60
    },
    "id": "ZUghXFt01ywq",
    "outputId": "9753d40c-8aa9-48a5-fae6-6559f876d395",
    "pycharm": {
     "name": "#%%\n"
    }
   },
   "outputs": [
    {
     "data": {
      "text/plain": [
       "{'np': 'Numerical Python', 'sp': 'Scientific Python'}"
      ]
     },
     "execution_count": 9,
     "metadata": {
      "tags": []
     },
     "output_type": "execute_result"
    }
   ],
   "source": []
  },
  {
   "cell_type": "code",
   "execution_count": null,
   "metadata": {
    "colab": {},
    "colab_type": "code",
    "id": "TtFvXFOP1zQr",
    "pycharm": {
     "name": "#%%\n"
    }
   },
   "outputs": [],
   "source": []
  },
  {
   "cell_type": "code",
   "execution_count": null,
   "metadata": {
    "colab": {},
    "colab_type": "code",
    "id": "Va5KvwcD13vr",
    "pycharm": {
     "name": "#%%\n"
    }
   },
   "outputs": [],
   "source": []
  },
  {
   "cell_type": "code",
   "execution_count": null,
   "metadata": {
    "colab": {
     "base_uri": "https://localhost:8080/",
     "height": 34
    },
    "colab_type": "code",
    "executionInfo": {
     "elapsed": 773,
     "status": "ok",
     "timestamp": 1553886401188,
     "user": {
      "displayName": "Sander van Rijn",
      "photoUrl": "https://lh5.googleusercontent.com/-4H0gCDe7sRw/AAAAAAAAAAI/AAAAAAAAA6c/JGxdZn9RB_c/s64/photo.jpg",
      "userId": "05558304576149541073"
     },
     "user_tz": -60
    },
    "id": "UXNGCOUJ18x7",
    "outputId": "e03ff20e-1033-4066-da54-ca6558164c37",
    "pycharm": {
     "name": "#%%\n"
    }
   },
   "outputs": [
    {
     "data": {
      "text/plain": [
       "{'a list': [1, 2, 3], 'np': 'Numerical Python', 'sp': 'een nieuw ding'}"
      ]
     },
     "execution_count": 14,
     "metadata": {
      "tags": []
     },
     "output_type": "execute_result"
    }
   ],
   "source": []
  },
  {
   "cell_type": "code",
   "execution_count": null,
   "metadata": {
    "colab": {
     "base_uri": "https://localhost:8080/",
     "height": 34
    },
    "colab_type": "code",
    "executionInfo": {
     "elapsed": 561,
     "status": "ok",
     "timestamp": 1553886451224,
     "user": {
      "displayName": "Sander van Rijn",
      "photoUrl": "https://lh5.googleusercontent.com/-4H0gCDe7sRw/AAAAAAAAAAI/AAAAAAAAA6c/JGxdZn9RB_c/s64/photo.jpg",
      "userId": "05558304576149541073"
     },
     "user_tz": -60
    },
    "id": "560qMWgU2M9b",
    "outputId": "499b2244-f001-4c61-ae9c-79a3084ee278",
    "pycharm": {
     "name": "#%%\n"
    }
   },
   "outputs": [
    {
     "data": {
      "text/plain": [
       "{'a list': [1, 2, 3, 4, 4], 'np': 'Numerical Python', 'sp': 'een nieuw ding'}"
      ]
     },
     "execution_count": 16,
     "metadata": {
      "tags": []
     },
     "output_type": "execute_result"
    }
   ],
   "source": []
  },
  {
   "cell_type": "code",
   "execution_count": null,
   "metadata": {
    "colab": {},
    "colab_type": "code",
    "id": "ST62bTVJ2YXM",
    "pycharm": {
     "name": "#%%\n"
    }
   },
   "outputs": [],
   "source": []
  },
  {
   "cell_type": "code",
   "execution_count": null,
   "metadata": {
    "colab": {
     "base_uri": "https://localhost:8080/",
     "height": 34
    },
    "colab_type": "code",
    "executionInfo": {
     "elapsed": 756,
     "status": "ok",
     "timestamp": 1553886531132,
     "user": {
      "displayName": "Sander van Rijn",
      "photoUrl": "https://lh5.googleusercontent.com/-4H0gCDe7sRw/AAAAAAAAAAI/AAAAAAAAA6c/JGxdZn9RB_c/s64/photo.jpg",
      "userId": "05558304576149541073"
     },
     "user_tz": -60
    },
    "id": "AwzlbegJ2rhc",
    "outputId": "25d90c6c-775d-4b52-9194-ea70ee9202e1",
    "pycharm": {
     "name": "#%%\n"
    }
   },
   "outputs": [
    {
     "data": {
      "text/plain": [
       "{'a list': [1, 2, 3, 4, 4], 'np': ['Numerical Python'], 'sp': 'een nieuw ding'}"
      ]
     },
     "execution_count": 18,
     "metadata": {
      "tags": []
     },
     "output_type": "execute_result"
    }
   ],
   "source": []
  },
  {
   "cell_type": "code",
   "execution_count": null,
   "metadata": {
    "colab": {},
    "colab_type": "code",
    "id": "5hWxDeZH2sr8",
    "pycharm": {
     "name": "#%%\n"
    }
   },
   "outputs": [],
   "source": []
  },
  {
   "cell_type": "code",
   "execution_count": null,
   "metadata": {
    "colab": {
     "base_uri": "https://localhost:8080/",
     "height": 85
    },
    "colab_type": "code",
    "executionInfo": {
     "elapsed": 528,
     "status": "ok",
     "timestamp": 1553886558475,
     "user": {
      "displayName": "Sander van Rijn",
      "photoUrl": "https://lh5.googleusercontent.com/-4H0gCDe7sRw/AAAAAAAAAAI/AAAAAAAAA6c/JGxdZn9RB_c/s64/photo.jpg",
      "userId": "05558304576149541073"
     },
     "user_tz": -60
    },
    "id": "1TngrG4D2zJM",
    "outputId": "1f752b37-ba3b-48da-a900-0fd36be8d3dc",
    "pycharm": {
     "name": "#%%\n"
    }
   },
   "outputs": [
    {
     "data": {
      "text/plain": [
       "{42: 'everything',\n",
       " 'a list': [1, 2, 3, 4, 4],\n",
       " 'np': ['Numerical Python'],\n",
       " 'sp': 'een nieuw ding'}"
      ]
     },
     "execution_count": 20,
     "metadata": {
      "tags": []
     },
     "output_type": "execute_result"
    }
   ],
   "source": []
  },
  {
   "cell_type": "code",
   "execution_count": null,
   "metadata": {
    "colab": {},
    "colab_type": "code",
    "id": "v0ekbG042za7",
    "pycharm": {
     "name": "#%%\n"
    }
   },
   "outputs": [],
   "source": []
  },
  {
   "cell_type": "code",
   "execution_count": null,
   "metadata": {
    "colab": {
     "base_uri": "https://localhost:8080/",
     "height": 102
    },
    "colab_type": "code",
    "executionInfo": {
     "elapsed": 577,
     "status": "ok",
     "timestamp": 1553886629108,
     "user": {
      "displayName": "Sander van Rijn",
      "photoUrl": "https://lh5.googleusercontent.com/-4H0gCDe7sRw/AAAAAAAAAAI/AAAAAAAAA6c/JGxdZn9RB_c/s64/photo.jpg",
      "userId": "05558304576149541073"
     },
     "user_tz": -60
    },
    "id": "GSXp2KyK3ARs",
    "outputId": "2e13117b-6dee-4b69-b985-cf6819ae7edb",
    "pycharm": {
     "name": "#%%\n"
    }
   },
   "outputs": [
    {
     "data": {
      "text/plain": [
       "{(1, 2, 3): 'immutable',\n",
       " 42: 'everything',\n",
       " 'a list': [1, 2, 3, 4, 4],\n",
       " 'np': ['Numerical Python'],\n",
       " 'sp': 'een nieuw ding'}"
      ]
     },
     "execution_count": 23,
     "metadata": {
      "tags": []
     },
     "output_type": "execute_result"
    }
   ],
   "source": []
  },
  {
   "cell_type": "code",
   "execution_count": null,
   "metadata": {
    "colab": {},
    "colab_type": "code",
    "id": "7uPI0QUi3AnM",
    "pycharm": {
     "name": "#%%\n"
    }
   },
   "outputs": [],
   "source": []
  },
  {
   "cell_type": "code",
   "execution_count": null,
   "metadata": {
    "pycharm": {
     "name": "#%%\n"
    }
   },
   "outputs": [],
   "source": []
  },
  {
   "cell_type": "markdown",
   "metadata": {
    "pycharm": {
     "name": "#%% md\n"
    }
   },
   "source": [
    "# 8a"
   ]
  },
  {
   "cell_type": "code",
   "execution_count": 3,
   "metadata": {
    "pycharm": {
     "name": "#%%\n"
    }
   },
   "outputs": [
    {
     "name": "stdout",
     "output_type": "stream",
     "text": [
      "16079\n"
     ]
    }
   ],
   "source": [
    "with open('input8.txt') as f:\n",
    "    tree = list(map(int, next(f).split()))\n",
    "    \n",
    "print(len(tree))"
   ]
  },
  {
   "cell_type": "code",
   "execution_count": null,
   "metadata": {
    "pycharm": {
     "name": "#%%\n"
    }
   },
   "outputs": [],
   "source": [
    "# Is broken\n",
    "def fib(n):\n",
    "    if n == 1 or n == 2:\n",
    "        return 1\n",
    "    getal = fib(n-1) + fib(n-2)"
   ]
  },
  {
   "cell_type": "code",
   "execution_count": 7,
   "metadata": {
    "pycharm": {
     "name": "#%%\n"
    }
   },
   "outputs": [
    {
     "data": {
      "text/plain": [
       "[1, 1, 2, 3, 5, 8, 13, 21, 34, 55]"
      ]
     },
     "execution_count": 7,
     "metadata": {},
     "output_type": "execute_result"
    }
   ],
   "source": [
    "# Is fixed :D\n",
    "def fib(n):\n",
    "    if n == 1 or n == 2:\n",
    "        f_n = 1\n",
    "    else:\n",
    "        f_1 = fib(n-1)\n",
    "        f_2 = fib(n-2)\n",
    "        f_n = f_1 + f_2\n",
    "    return f_n\n",
    "\n",
    "[fib(i) for i in range(1, 11)]"
   ]
  },
  {
   "cell_type": "code",
   "execution_count": 4,
   "metadata": {
    "pycharm": {
     "name": "#%%\n"
    }
   },
   "outputs": [
    {
     "data": {
      "text/plain": [
       "[]"
      ]
     },
     "execution_count": 4,
     "metadata": {},
     "output_type": "execute_result"
    }
   ],
   "source": [
    "lijst = [1]\n",
    "lijst[1:]  # is an empty list"
   ]
  },
  {
   "cell_type": "code",
   "execution_count": null,
   "metadata": {
    "pycharm": {
     "name": "#%%\n"
    }
   },
   "outputs": [],
   "source": [
    "# Also works :D\n",
    "# Niet dat het beter is dan len() :P\n",
    "def mijn_lengte(lijst):\n",
    "    if lijst == []:\n",
    "        lengte = 0\n",
    "    else:\n",
    "        lengte_1 = 1 #mijn_lengte(lijst[0])\n",
    "        lengte_2 = mijn_lengte(lijst[1:])\n",
    "        lengte = lengte_1 + lengte_2\n",
    "    return lengte\n",
    "\n",
    "print(mijn_lengte([2, 5, 6]))"
   ]
  },
  {
   "cell_type": "code",
   "execution_count": null,
   "metadata": {
    "pycharm": {
     "name": "#%%\n"
    }
   },
   "outputs": [],
   "source": []
  }
 ],
 "metadata": {
  "colab": {
   "name": "AdventofCode.ipynb",
   "provenance": [],
   "version": "0.3.2"
  },
  "kernelspec": {
   "display_name": "Python 3",
   "language": "python",
   "name": "python3"
  },
  "language_info": {
   "codemirror_mode": {
    "name": "ipython",
    "version": 3
   },
   "file_extension": ".py",
   "mimetype": "text/x-python",
   "name": "python",
   "nbconvert_exporter": "python",
   "pygments_lexer": "ipython3",
   "version": "3.6.3"
  }
 },
 "nbformat": 4,
 "nbformat_minor": 2
}